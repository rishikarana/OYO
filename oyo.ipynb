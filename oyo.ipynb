{
 "cells": [
  {
   "cell_type": "code",
   "execution_count": 357,
   "metadata": {},
   "outputs": [],
   "source": [
    "# importing the packages\n",
    "import pandas as pd\n",
    "from datetime import date\n",
    "from functools import reduce"
   ]
  },
  {
   "cell_type": "markdown",
   "metadata": {},
   "source": [
    "### Q1"
   ]
  },
  {
   "cell_type": "code",
   "execution_count": 358,
   "metadata": {},
   "outputs": [],
   "source": [
    "#importing all 4 data sets\n",
    "jan=pd.read_csv(\"C://Users//rxr318//Desktop//OYO//TableA.csv\")\n",
    "feb=pd.read_csv(\"C://Users//rxr318//Desktop//OYO//TableB.csv\")\n",
    "march=pd.read_csv(\"C://Users//rxr318//Desktop//OYO//TableC.csv\")\n",
    "tableD=pd.read_excel(\"C://Users//rxr318//Desktop//OYO//TableD.xlsx\")"
   ]
  },
  {
   "cell_type": "code",
   "execution_count": 359,
   "metadata": {},
   "outputs": [
    {
     "data": {
      "text/plain": [
       "booking_id       int64\n",
       "customer_id      int64\n",
       "source           int64\n",
       "status           int64\n",
       "checkin         object\n",
       "checkout        object\n",
       "oyo_rooms        int64\n",
       "hotel_id         int64\n",
       "amount           int64\n",
       "discount       float64\n",
       "date            object\n",
       "room_nights    float64\n",
       "dtype: object"
      ]
     },
     "execution_count": 359,
     "metadata": {},
     "output_type": "execute_result"
    }
   ],
   "source": [
    "#Checking the data types of all columns in jdataset jan\n",
    "jan.dtypes"
   ]
  },
  {
   "cell_type": "code",
   "execution_count": 360,
   "metadata": {},
   "outputs": [],
   "source": [
    "# convert checkin,checkout and date columns to date time from object for all tables\n",
    "jan[[\"checkin\", \"checkout\",\"date\"]] = jan[[\"checkin\", \"checkout\",\"date\"]].apply(pd.to_datetime)\n",
    "feb[[\"checkin\", \"checkout\",\"date\"]] = feb[[\"checkin\", \"checkout\",\"date\"]].apply(pd.to_datetime)\n",
    "march[[\"checkin\", \"checkout\",\"date\"]] = march[[\"checkin\", \"checkout\",\"date\"]].apply(pd.to_datetime)"
   ]
  },
  {
   "cell_type": "code",
   "execution_count": 361,
   "metadata": {},
   "outputs": [
    {
     "data": {
      "text/plain": [
       "booking_id              int64\n",
       "customer_id             int64\n",
       "source                  int64\n",
       "status                  int64\n",
       "checkin        datetime64[ns]\n",
       "checkout       datetime64[ns]\n",
       "oyo_rooms               int64\n",
       "hotel_id                int64\n",
       "amount                  int64\n",
       "discount              float64\n",
       "date           datetime64[ns]\n",
       "room_nights           float64\n",
       "dtype: object"
      ]
     },
     "execution_count": 361,
     "metadata": {},
     "output_type": "execute_result"
    }
   ],
   "source": [
    "#checking datatypes again\n",
    "jan.dtypes"
   ]
  },
  {
   "cell_type": "markdown",
   "metadata": {},
   "source": [
    "### Q2"
   ]
  },
  {
   "cell_type": "code",
   "execution_count": 261,
   "metadata": {},
   "outputs": [],
   "source": [
    "#unique users for each month\n",
    "unique_users=pd.DataFrame()\n",
    "unique_users_jan=pd.DataFrame({'jan_unique':jan['customer_id'].unique()})\n",
    "unique_users_feb=pd.DataFrame({'feb_unique':feb['customer_id'].unique()})\n",
    "unique_users_march=pd.DataFrame({'march_unique':march['customer_id'].unique()})\n",
    "\n",
    "#concatinating unique users for each month into the same dataframe\n",
    "unique_users=pd.concat([unique_users_jan,unique_users_feb,unique_users_march],axis=1)\n",
    "\n",
    "#exporting list of unique users to csv\n",
    "unique_users.to_csv(\"C://Users//rxr318//Desktop//OYO//Q2_Unique_users_monthly.csv\")"
   ]
  },
  {
   "cell_type": "code",
   "execution_count": 318,
   "metadata": {},
   "outputs": [
    {
     "name": "stderr",
     "output_type": "stream",
     "text": [
      "C:\\Users\\rxr318\\AppData\\Local\\Continuum\\anaconda3\\lib\\site-packages\\pandas\\core\\groupby\\groupby.py:4658: FutureWarning: using a dict with renaming is deprecated and will be removed in a future version\n",
      "  return super(DataFrameGroupBy, self).aggregate(arg, *args, **kwargs)\n"
     ]
    }
   ],
   "source": [
    "#finding number of bookings and amount spent for each customer for jan, feb and march\n",
    "jan_agg=jan.groupby(['customer_id'],as_index=False).agg({'booking_id':{'booking_id.jan':'nunique'},'amount':{'amount.jan':'sum'}})\n",
    "feb_agg=feb.groupby(['customer_id'],as_index=False).agg({'booking_id':{'booking_id.feb':'nunique'},'amount':{'amount.feb':'sum'}})\n",
    "march_agg=march.groupby(['customer_id'],as_index=False).agg({'booking_id':{'booking_id.march':'nunique'},'amount':{'amount.march':'sum'}})\n"
   ]
  },
  {
   "cell_type": "code",
   "execution_count": 245,
   "metadata": {},
   "outputs": [],
   "source": [
    "#creating a function to calculate room nights for each booking\n",
    "def _room_nights(dataset):\n",
    "    #Converting checkout and checkin to datetime.date\n",
    "    dataset['checkin']=dataset['checkin'].apply(lambda x:datetime.datetime.date(x))\n",
    "    dataset['checkout']=dataset['checkout'].apply(lambda x:datetime.datetime.date(x))\n",
    "    #Finding the room_nights and stoeing it in the respective dataset\n",
    "    dataset['room_nights']=dataset['oyo_rooms']*(dataset['checkout']-dataset['checkin'])\n",
    "    "
   ]
  },
  {
   "cell_type": "code",
   "execution_count": 246,
   "metadata": {},
   "outputs": [],
   "source": [
    "#Finding roomnights for jan,feb,march\n",
    "_room_nights(jan)\n",
    "_room_nights(feb)\n",
    "_room_nights(march)"
   ]
  },
  {
   "cell_type": "code",
   "execution_count": 362,
   "metadata": {},
   "outputs": [
    {
     "data": {
      "text/html": [
       "<div>\n",
       "<style scoped>\n",
       "    .dataframe tbody tr th:only-of-type {\n",
       "        vertical-align: middle;\n",
       "    }\n",
       "\n",
       "    .dataframe tbody tr th {\n",
       "        vertical-align: top;\n",
       "    }\n",
       "\n",
       "    .dataframe thead th {\n",
       "        text-align: right;\n",
       "    }\n",
       "</style>\n",
       "<table border=\"1\" class=\"dataframe\">\n",
       "  <thead>\n",
       "    <tr style=\"text-align: right;\">\n",
       "      <th></th>\n",
       "      <th>booking_id</th>\n",
       "      <th>customer_id</th>\n",
       "      <th>source</th>\n",
       "      <th>status</th>\n",
       "      <th>checkin</th>\n",
       "      <th>checkout</th>\n",
       "      <th>oyo_rooms</th>\n",
       "      <th>hotel_id</th>\n",
       "      <th>amount</th>\n",
       "      <th>discount</th>\n",
       "      <th>date</th>\n",
       "      <th>room_nights</th>\n",
       "    </tr>\n",
       "  </thead>\n",
       "  <tbody>\n",
       "    <tr>\n",
       "      <th>0</th>\n",
       "      <td>1</td>\n",
       "      <td>189314</td>\n",
       "      <td>4</td>\n",
       "      <td>3</td>\n",
       "      <td>2017-02-04</td>\n",
       "      <td>2017-02-05</td>\n",
       "      <td>1</td>\n",
       "      <td>252</td>\n",
       "      <td>3160</td>\n",
       "      <td>669.0</td>\n",
       "      <td>2017-01-31</td>\n",
       "      <td>1.0</td>\n",
       "    </tr>\n",
       "    <tr>\n",
       "      <th>1</th>\n",
       "      <td>2</td>\n",
       "      <td>46268</td>\n",
       "      <td>4</td>\n",
       "      <td>3</td>\n",
       "      <td>2017-01-27</td>\n",
       "      <td>2017-01-28</td>\n",
       "      <td>1</td>\n",
       "      <td>252</td>\n",
       "      <td>1893</td>\n",
       "      <td>481.0</td>\n",
       "      <td>2017-01-27</td>\n",
       "      <td>1.0</td>\n",
       "    </tr>\n",
       "    <tr>\n",
       "      <th>2</th>\n",
       "      <td>3</td>\n",
       "      <td>55271</td>\n",
       "      <td>3</td>\n",
       "      <td>2</td>\n",
       "      <td>2017-01-25</td>\n",
       "      <td>2017-01-26</td>\n",
       "      <td>1</td>\n",
       "      <td>252</td>\n",
       "      <td>2188</td>\n",
       "      <td>463.0</td>\n",
       "      <td>2017-01-25</td>\n",
       "      <td>1.0</td>\n",
       "    </tr>\n",
       "    <tr>\n",
       "      <th>3</th>\n",
       "      <td>4</td>\n",
       "      <td>170766</td>\n",
       "      <td>4</td>\n",
       "      <td>3</td>\n",
       "      <td>2017-01-26</td>\n",
       "      <td>2017-01-27</td>\n",
       "      <td>1</td>\n",
       "      <td>252</td>\n",
       "      <td>3054</td>\n",
       "      <td>646.0</td>\n",
       "      <td>2017-01-26</td>\n",
       "      <td>1.0</td>\n",
       "    </tr>\n",
       "    <tr>\n",
       "      <th>4</th>\n",
       "      <td>5</td>\n",
       "      <td>170766</td>\n",
       "      <td>4</td>\n",
       "      <td>3</td>\n",
       "      <td>2017-01-26</td>\n",
       "      <td>2017-01-28</td>\n",
       "      <td>1</td>\n",
       "      <td>252</td>\n",
       "      <td>6107</td>\n",
       "      <td>1293.0</td>\n",
       "      <td>2017-01-25</td>\n",
       "      <td>2.0</td>\n",
       "    </tr>\n",
       "  </tbody>\n",
       "</table>\n",
       "</div>"
      ],
      "text/plain": [
       "   booking_id  customer_id  source  status    checkin   checkout  oyo_rooms  \\\n",
       "0           1       189314       4       3 2017-02-04 2017-02-05          1   \n",
       "1           2        46268       4       3 2017-01-27 2017-01-28          1   \n",
       "2           3        55271       3       2 2017-01-25 2017-01-26          1   \n",
       "3           4       170766       4       3 2017-01-26 2017-01-27          1   \n",
       "4           5       170766       4       3 2017-01-26 2017-01-28          1   \n",
       "\n",
       "   hotel_id  amount  discount       date  room_nights  \n",
       "0       252    3160     669.0 2017-01-31          1.0  \n",
       "1       252    1893     481.0 2017-01-27          1.0  \n",
       "2       252    2188     463.0 2017-01-25          1.0  \n",
       "3       252    3054     646.0 2017-01-26          1.0  \n",
       "4       252    6107    1293.0 2017-01-25          2.0  "
      ]
     },
     "execution_count": 362,
     "metadata": {},
     "output_type": "execute_result"
    }
   ],
   "source": [
    "#Checking the dataset for addition of a new column\n",
    "jan.head()"
   ]
  },
  {
   "cell_type": "code",
   "execution_count": 321,
   "metadata": {
    "scrolled": true
   },
   "outputs": [
    {
     "name": "stderr",
     "output_type": "stream",
     "text": [
      "C:\\Users\\rxr318\\AppData\\Local\\Continuum\\anaconda3\\lib\\site-packages\\pandas\\core\\groupby\\groupby.py:4658: FutureWarning: using a dict with renaming is deprecated and will be removed in a future version\n",
      "  return super(DataFrameGroupBy, self).aggregate(arg, *args, **kwargs)\n"
     ]
    }
   ],
   "source": [
    "#calculating total room nights stayed(status 2) for all users in all months and stoeing it in month_room_niht_stayed\n",
    "jan_room_night_stayed=jan[jan['status']==2].groupby(['customer_id'],as_index=False).agg({'room_nights':{'room_night.jan':'sum'}})\n",
    "feb_room_night_stayed=feb[feb['status']==2].groupby(['customer_id'],as_index=False).agg({'room_nights':{'room_night.feb':'sum'}})\n",
    "march_room_night_stayed=feb[feb['status']==2].groupby(['customer_id'],as_index=False).agg({'room_nights':{'room_night.feb':'sum'}})"
   ]
  },
  {
   "cell_type": "markdown",
   "metadata": {},
   "source": [
    "### Q3"
   ]
  },
  {
   "cell_type": "code",
   "execution_count": 335,
   "metadata": {},
   "outputs": [],
   "source": [
    "#storing all individual datframes into a variable\n",
    "dfs = [jan_agg,jan_room_night_stayed,feb_agg,feb_room_night_stayed,march_agg,march_room_night_stayed]"
   ]
  },
  {
   "cell_type": "code",
   "execution_count": 350,
   "metadata": {},
   "outputs": [
    {
     "name": "stderr",
     "output_type": "stream",
     "text": [
      "C:\\Users\\rxr318\\AppData\\Local\\Continuum\\anaconda3\\lib\\site-packages\\pandas\\core\\generic.py:3108: PerformanceWarning: dropping on a non-lexsorted multi-index without a level parameter may impact performance.\n",
      "  obj = obj._drop_axis(labels, axis, level=level, errors=errors)\n"
     ]
    }
   ],
   "source": [
    "#merging all data sets together at customer level\n",
    "df_final = reduce(lambda left,right: pd.merge(left,right,on='customer_id',how='outer'), dfs)"
   ]
  },
  {
   "cell_type": "code",
   "execution_count": 351,
   "metadata": {},
   "outputs": [],
   "source": [
    "#dropping the first level of column names\n",
    "df_final.columns=df_final.columns.droplevel(0)"
   ]
  },
  {
   "cell_type": "code",
   "execution_count": 354,
   "metadata": {},
   "outputs": [],
   "source": [
    "#Renaming the first column of the final dataset\n",
    "df_final.rename(columns={ df_final.columns[0]: \"Customer_id\" })\n",
    "#Exporting the final datset to csv\n",
    "df_final.to_csv(\"C://Users//rxr318//Desktop//OYO//Q3_Final_Dataset.csv\")"
   ]
  },
  {
   "cell_type": "markdown",
   "metadata": {},
   "source": [
    "### Q4"
   ]
  },
  {
   "cell_type": "code",
   "execution_count": 161,
   "metadata": {},
   "outputs": [],
   "source": [
    "#repeat rate\n",
    "\n",
    "#storing number of unique customers in january in variable X\n",
    "X=jan['customer_id'].nunique()\n",
    "\n",
    "#Storing number customers who shopped in Jan and then in feb in Y\n",
    "Y=feb.loc[feb['customer_id'].isin(jan['customer_id'])]['customer_id'].nunique()"
   ]
  },
  {
   "cell_type": "code",
   "execution_count": 164,
   "metadata": {},
   "outputs": [],
   "source": [
    "#finding repeat rate and storin it in X\n",
    "repeat_rate=Y/X*100"
   ]
  },
  {
   "cell_type": "code",
   "execution_count": 165,
   "metadata": {},
   "outputs": [
    {
     "data": {
      "text/plain": [
       "18.497913769123784"
      ]
     },
     "execution_count": 165,
     "metadata": {},
     "output_type": "execute_result"
    }
   ],
   "source": [
    "#disply the repeat rate\n",
    "repeat_rate"
   ]
  },
  {
   "cell_type": "markdown",
   "metadata": {},
   "source": [
    "### Q5\n"
   ]
  },
  {
   "cell_type": "code",
   "execution_count": 170,
   "metadata": {},
   "outputs": [
    {
     "name": "stderr",
     "output_type": "stream",
     "text": [
      "C:\\Users\\rxr318\\AppData\\Local\\Continuum\\anaconda3\\lib\\site-packages\\ipykernel_launcher.py:1: FutureWarning: Sorting because non-concatenation axis is not aligned. A future version\n",
      "of pandas will change to not sort by default.\n",
      "\n",
      "To accept the future behavior, pass 'sort=True'.\n",
      "\n",
      "To retain the current behavior and silence the warning, pass sort=False\n",
      "\n",
      "  \"\"\"Entry point for launching an IPython kernel.\n"
     ]
    }
   ],
   "source": [
    "#taking the union of jan,feb and march data to find revenue for the entire time period\n",
    "unionABC=pd.concat([jan,feb,march],ignore_index=True)"
   ]
  },
  {
   "cell_type": "code",
   "execution_count": 174,
   "metadata": {},
   "outputs": [],
   "source": [
    "#joining the union table with city mapping\n",
    "city_booking=pd.merge(left=unionABC,right=tableD,on='hotel_id',how='inner')"
   ]
  },
  {
   "cell_type": "code",
   "execution_count": 198,
   "metadata": {},
   "outputs": [
    {
     "name": "stderr",
     "output_type": "stream",
     "text": [
      "C:\\Users\\rxr318\\AppData\\Local\\Continuum\\anaconda3\\lib\\site-packages\\pandas\\core\\groupby\\groupby.py:4658: FutureWarning: using a dict with renaming is deprecated and will be removed in a future version\n",
      "  return super(DataFrameGroupBy, self).aggregate(arg, *args, **kwargs)\n"
     ]
    }
   ],
   "source": [
    "#finding the sum of amount, grouping it at city and hotel level, the aggregated column is renamed as amount_sum\n",
    "city_agg=city_booking.groupby(['city','hotel_id']).agg({'amount':{'amount_sum':'sum'}})\n",
    "#dropping the 1st level of column names after aggregation\n",
    "city_agg.columns = city_agg.columns.droplevel(0)"
   ]
  },
  {
   "cell_type": "code",
   "execution_count": 215,
   "metadata": {},
   "outputs": [],
   "source": [
    "#arranging the amount_sum column in descending order and keeping only top 3 rows for each city\n",
    "top_3_citywise=city_agg.sort_values(['city','amount_sum'],ascending=False).groupby('city').head(3)"
   ]
  },
  {
   "cell_type": "code",
   "execution_count": 216,
   "metadata": {},
   "outputs": [],
   "source": [
    "#exporting the final dataset for Q5 to csv\n",
    "city_agg.to_csv(\"C://Users//rxr318//Desktop//OYO//Q5_top_3_citywise.csv\")"
   ]
  },
  {
   "cell_type": "code",
   "execution_count": null,
   "metadata": {},
   "outputs": [],
   "source": []
  }
 ],
 "metadata": {
  "kernelspec": {
   "display_name": "Python 3",
   "language": "python",
   "name": "python3"
  },
  "language_info": {
   "codemirror_mode": {
    "name": "ipython",
    "version": 3
   },
   "file_extension": ".py",
   "mimetype": "text/x-python",
   "name": "python",
   "nbconvert_exporter": "python",
   "pygments_lexer": "ipython3",
   "version": "3.6.5"
  }
 },
 "nbformat": 4,
 "nbformat_minor": 2
}
